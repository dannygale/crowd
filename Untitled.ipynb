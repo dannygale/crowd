{
 "cells": [
  {
   "cell_type": "code",
   "execution_count": 14,
   "metadata": {},
   "outputs": [
    {
     "name": "stdout",
     "output_type": "stream",
     "text": [
      "<class '__main__.MoneyModel'> <__main__.MoneyModel object at 0x118acbf90> <class 'int'> 10\n"
     ]
    },
    {
     "data": {
      "text/plain": [
       "(array([4., 0., 4., 0., 0., 1., 0., 0., 0., 1.]),\n",
       " array([0. , 0.4, 0.8, 1.2, 1.6, 2. , 2.4, 2.8, 3.2, 3.6, 4. ]),\n",
       " <a list of 10 Patch objects>)"
      ]
     },
     "execution_count": 14,
     "metadata": {},
     "output_type": "execute_result"
    },
    {
     "data": {
      "image/png": "[encoded data removed]",
      "text/plain": [
       "<Figure size 432x288 with 1 Axes>"
      ]
     },
     "metadata": {
      "needs_background": "light"
     },
     "output_type": "display_data"
    }
   ],
   "source": [
    "from pyabm import *\n",
    "import random\n",
    "\n",
    "class MoneyAgent(Agent):\n",
    "    def init(self, wealth=1):\n",
    "        self.wealth = wealth\n",
    "        \n",
    "    def step(self, ctx):\n",
    "        if self.wealth == 0:\n",
    "            return\n",
    "        other = random.choice(ctx['agents'])\n",
    "        other.wealth += 1\n",
    "        self.wealth -= 1\n",
    "        \n",
    "class MoneyModel(Model):\n",
    "    def context(self):\n",
    "        return {'agents': self._agents}\n",
    "    \n",
    "agents = [ MoneyAgent(i) for i in range(10) ]\n",
    "\n",
    "\n",
    "def get_money(agent):\n",
    "    return agent.wealth\n",
    "\n",
    "\n",
    "sim = Simulation(model = MoneyModel(agents, agent_data = {'wealth':get_money}),)\n",
    "sim.run()\n",
    "\n",
    "#display(sim.agent_data())\n",
    "#display(sim.model_data())\n",
    "\n",
    "import matplotlib.pyplot as plt\n",
    "plt.hist([a.wealth for a in sim._model.agents()])"
   ]
  }
 ],
 "metadata": {
  "kernelspec": {
   "display_name": "Python 3",
   "language": "python",
   "name": "python3"
  },
  "language_info": {
   "codemirror_mode": {
    "name": "ipython",
    "version": 3
   },
   "file_extension": ".py",
   "mimetype": "text/x-python",
   "name": "python",
   "nbconvert_exporter": "python",
   "pygments_lexer": "ipython3",
   "version": "3.7.6"
  }
 },
 "nbformat": 4,
 "nbformat_minor": 4
}
